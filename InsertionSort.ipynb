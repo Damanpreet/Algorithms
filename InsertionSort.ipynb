{
 "cells": [
  {
   "cell_type": "code",
   "execution_count": 44,
   "metadata": {},
   "outputs": [],
   "source": [
    "def insertion_sort(arr):\n",
    "    for j in range(1,len(arr)):\n",
    "        ele = arr[j]\n",
    "        i = j-1\n",
    "        while i >= 0 and arr[i] > ele:\n",
    "            arr[i+1] = arr[i]\n",
    "            i-=1\n",
    "        arr[i+1] = ele\n",
    "    return arr"
   ]
  },
  {
   "cell_type": "code",
   "execution_count": 45,
   "metadata": {},
   "outputs": [
    {
     "name": "stdout",
     "output_type": "stream",
     "text": [
      "[1, 2, 2, 3, 4, 6, 7, 8, 8, 10]\n"
     ]
    }
   ],
   "source": [
    "sorted_arr = insertion_sort([10,8,8,7,6,2,4,3,2,1])\n",
    "print(sorted_arr)"
   ]
  }
 ],
 "metadata": {
  "kernelspec": {
   "display_name": "Python 3",
   "language": "python",
   "name": "python3"
  },
  "language_info": {
   "codemirror_mode": {
    "name": "ipython",
    "version": 3
   },
   "file_extension": ".py",
   "mimetype": "text/x-python",
   "name": "python",
   "nbconvert_exporter": "python",
   "pygments_lexer": "ipython3",
   "version": "3.7.0"
  }
 },
 "nbformat": 4,
 "nbformat_minor": 2
}
