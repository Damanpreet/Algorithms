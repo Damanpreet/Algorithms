{
 "cells": [
  {
   "cell_type": "code",
   "execution_count": 80,
   "metadata": {},
   "outputs": [],
   "source": [
    "def merge_sort(arr):\n",
    "    if len(arr) == 1:\n",
    "        return arr\n",
    "        \n",
    "    midarr = len(arr)//2\n",
    "    arrOne = arr[:midarr]\n",
    "    arrTwo = arr[midarr:]\n",
    "    merge_sort(arrOne)\n",
    "    merge_sort(arrTwo)\n",
    "    \n",
    "    i = j = k = 0\n",
    "        \n",
    "    while i < len(arrOne) and j < len(arrTwo):\n",
    "        if arrOne[i] < arrTwo[j]:\n",
    "            arr[k] = arrOne[i]\n",
    "            i+=1\n",
    "        else:\n",
    "            arr[k] = arrTwo[j]\n",
    "            j+=1\n",
    "        k+=1\n",
    "        \n",
    "    # if the elements are still in any of the array\n",
    "    while i < len(arrOne):\n",
    "        arr[k] = arrOne[i]\n",
    "        k+=1\n",
    "        i+=1\n",
    "        \n",
    "    while j < len(arrTwo):\n",
    "        arr[k] = arrTwo[j]\n",
    "        k+=1\n",
    "        j+=1        \n",
    "            "
   ]
  },
  {
   "cell_type": "code",
   "execution_count": 81,
   "metadata": {
    "scrolled": true
   },
   "outputs": [
    {
     "name": "stdout",
     "output_type": "stream",
     "text": [
      "[1, 2, 2, 3, 3, 4, 6, 7, 8, 8, 10]\n"
     ]
    }
   ],
   "source": [
    "arr=[10,8,8,7,6,2,4,3,2,1,3]\n",
    "merge_sort(arr)\n",
    "print(arr)"
   ]
  }
 ],
 "metadata": {
  "kernelspec": {
   "display_name": "Python 3",
   "language": "python",
   "name": "python3"
  },
  "language_info": {
   "codemirror_mode": {
    "name": "ipython",
    "version": 3
   },
   "file_extension": ".py",
   "mimetype": "text/x-python",
   "name": "python",
   "nbconvert_exporter": "python",
   "pygments_lexer": "ipython3",
   "version": "3.7.0"
  }
 },
 "nbformat": 4,
 "nbformat_minor": 2
}
